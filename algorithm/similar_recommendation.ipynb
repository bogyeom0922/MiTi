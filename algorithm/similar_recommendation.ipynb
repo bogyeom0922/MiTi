{
 "cells": [
  {
   "cell_type": "code",
   "execution_count": 1,
   "metadata": {},
   "outputs": [
    {
     "name": "stdout",
     "output_type": "stream",
     "text": [
      "Collecting pymysql\n",
      "  Downloading PyMySQL-1.1.1-py3-none-any.whl.metadata (4.4 kB)\n",
      "Downloading PyMySQL-1.1.1-py3-none-any.whl (44 kB)\n",
      "\u001b[2K   \u001b[90m━━━━━━━━━━━━━━━━━━━━━━━━━━━━━━━━━━━━━━━━\u001b[0m \u001b[32m45.0/45.0 kB\u001b[0m \u001b[31m1.1 MB/s\u001b[0m eta \u001b[36m0:00:00\u001b[0m\n",
      "\u001b[?25hInstalling collected packages: pymysql\n",
      "Successfully installed pymysql-1.1.1\n",
      "Note: you may need to restart the kernel to use updated packages.\n"
     ]
    }
   ],
   "source": [
    "pip install pymysql"
   ]
  },
  {
   "cell_type": "code",
   "execution_count": 2,
   "metadata": {},
   "outputs": [],
   "source": [
    "import numpy as np\n",
    "import pandas as pd\n",
    "import pymysql"
   ]
  },
  {
   "cell_type": "code",
   "execution_count": 3,
   "metadata": {},
   "outputs": [],
   "source": [
    "#음악의 특성 값들의 평균을 계산\n",
    "def calculate_average(cursor):\n",
    "    cursor.execute(\"SELECT AVG(music_acousticness), AVG(music_danceability), AVG(music_energy), AVG(music_liveness), AVG(music_loudness), AVG(music_speechiness), AVG(music_tempo), AVG(music_valence) FROM mitiDB.album\")\n",
    "    return cursor.fetchone()\n",
    "\n",
    "# 두 음악 간의 유사도를 구하는 함수\n",
    "# 두 음악의 특성을 빼고 제곱을 더해서 제곱근을 구함. =유클리드 거리 계산 (수동 ㅎ)\n",
    "def calculate_similarity(music_acousticness1, music_danceability1, music_energy1, music_liveness1, music_loudness1, music_speechiness1,\n",
    "                          music_tempo1, music_valence1, music_acousticness2, music_danceability2,\n",
    "                          music_energy2, music_liveness2, music_loudness2, music_speechiness2, music_tempo2, music_valence2):\n",
    "    return np.sqrt((music_acousticness1 - music_acousticness2) ** 2 + (music_danceability1 - music_danceability2) \n",
    "                   ** 2 + (music_energy1 - music_energy2) ** 2 + (music_liveness1 - music_liveness2) ** 2 + (music_loudness1 - music_loudness2) \n",
    "                   ** 2 + (music_speechiness1 - music_speechiness2) ** 2 + (music_tempo1 - music_tempo2) ** 2) + (music_valence1 - music_valence2) ** 2 \n",
    "\n",
    "\n",
    "#주어진 평균 음악 특성 값과 DB에 저장된 모든 음악의 특성을 비교하여 유사한 음악 찾음\n",
    "def find_similar_music(cursor, avg_music_acousticness, avg_music_danceability, avg_music_energy, avg_music_liveness, avg_music_loudness,\n",
    "                        avg_music_speechiness, avg_music_tempo, avg_music_valence):\n",
    "    cursor.execute(\"SELECT id, music_acousticness, music_danceability, music_energy, music_liveness, music_loudness, music_speechiness, music_tempo, music_valence FROM mitiDB.album\")\n",
    "    music_list = cursor.fetchall() #결과를 misic_list에 저장\n",
    "    \n",
    "    similarities = []\n",
    "    for music in music_list:\n",
    "        id, music_acousticness, music_danceability, music_energy, music_liveness, music_loudness, music_speechiness, music_tempo, music_valence = music\n",
    "        similarity = calculate_similarity(avg_music_acousticness, avg_music_danceability, avg_music_energy, avg_music_liveness, avg_music_loudness, avg_music_speechiness, avg_music_tempo, avg_music_valence, \n",
    "                                          music_acousticness, music_danceability, music_energy, music_liveness, music_loudness, music_speechiness, music_tempo, music_valence)\n",
    "        similarities.append((id, similarity)) \n",
    "    \n",
    "    # Sort by similarity (ascending order)\n",
    "    similarities.sort(key=lambda x: x[1])  # 여기서는 similarity를 기준으로 정렬합니다.\n",
    "    return similarities\n"
   ]
  },
  {
   "cell_type": "code",
   "execution_count": 6,
   "metadata": {},
   "outputs": [
    {
     "name": "stdout",
     "output_type": "stream",
     "text": [
      "Average music_acousticness: 0.32357630573248386, Average music_danceability: 0.5947961783439492, Average music_energy: 0.5306242038216561, Average music_liveness: 0.15507324840764336, Average music_loudness: -7.727929936305739, Average music_speechiness: 0.07969490445859874, Average music_tempo: 120.27943949044588, Average music_valence: 0.4098757961783439\n",
      "Top 10 similar music:\n",
      "ID: 52, Similarity: 1.2447886887331705\n",
      "ID: 78, Similarity: 1.8742219299584235\n",
      "ID: 117, Similarity: 2.3765345471663526\n",
      "ID: 63, Similarity: 2.8918118853212516\n",
      "ID: 94, Similarity: 3.315203552116657\n",
      "ID: 111, Similarity: 3.869699669851518\n",
      "ID: 19, Similarity: 4.221725526742655\n",
      "ID: 132, Similarity: 4.461514780683055\n",
      "ID: 79, Similarity: 4.502143723367986\n",
      "ID: 4, Similarity: 5.021052167063233\n"
     ]
    }
   ],
   "source": [
    "def main():\n",
    "    #mysql 연결\n",
    "    conn = pymysql.connect(\n",
    "    host = 'mitidb.cvm64ss6y2xv.ap-northeast-2.rds.amazonaws.com',\n",
    "    user = 'minseo',\n",
    "    password='Alstj!!809',\n",
    "    db= 'mitiDB',\n",
    "    charset= 'utf8'\n",
    "    )\n",
    "\n",
    "    #연결 잘 됐는지 select 해보며 확인\n",
    "    cursor = conn.cursor()\n",
    "\n",
    "    # 각 값 평균 계산\n",
    "    avg_music_acousticness, avg_music_danceability, avg_music_energy, avg_music_liveness, avg_music_loudness, avg_music_speechiness, avg_music_tempo, avg_music_valence= calculate_average(cursor)\n",
    "    # f-string을 사용하여 출력\n",
    "    print(f'Average music_acousticness: {avg_music_acousticness}, Average music_danceability: {avg_music_danceability}, Average music_energy: {avg_music_energy}, Average music_liveness: {avg_music_liveness}, Average music_loudness: {avg_music_loudness}, Average music_speechiness: {avg_music_speechiness}, Average music_tempo: {avg_music_tempo}, Average music_valence: {avg_music_valence}')\n",
    "\n",
    "\n",
    "    # 평균값이랑 유사한 음악 찾기\n",
    "    similar_music = find_similar_music(cursor, avg_music_acousticness, avg_music_danceability, avg_music_energy, avg_music_liveness, avg_music_loudness, avg_music_speechiness, avg_music_tempo, avg_music_valence)\n",
    "    \n",
    "    # 비슷한 음악 10개\n",
    "    print(\"Top 10 similar music:\")\n",
    "    for id, similarity in similar_music[:10]:\n",
    "        print(f'ID: {id}, Similarity: {similarity}')\n",
    "\n",
    "\n",
    "\n",
    "    # DB연결 종료\n",
    "    conn.close()\n",
    "\n",
    "if __name__ == \"__main__\":\n",
    "    main()\n",
    "\n"
   ]
  }
 ],
 "metadata": {
  "kernelspec": {
   "display_name": "Python 3",
   "language": "python",
   "name": "python3"
  },
  "language_info": {
   "codemirror_mode": {
    "name": "ipython",
    "version": 3
   },
   "file_extension": ".py",
   "mimetype": "text/x-python",
   "name": "python",
   "nbconvert_exporter": "python",
   "pygments_lexer": "ipython3",
   "version": "3.10.13"
  }
 },
 "nbformat": 4,
 "nbformat_minor": 2
}
