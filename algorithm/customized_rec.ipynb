{
 "cells": [
  {
   "cell_type": "code",
   "execution_count": 2,
   "metadata": {},
   "outputs": [],
   "source": [
    "import pymysql #데이터베이스 연결\n",
    "import numpy as np #수치 계산\n",
    "from scipy.spatial.distance import euclidean, cosine #거리 계산"
   ]
  },
  {
   "cell_type": "code",
   "execution_count": 3,
   "metadata": {},
   "outputs": [],
   "source": [
    "# user_record와 album 테이블에서 필요한 데이터를 가져오는 함수\n",
    "def fetch_records_and_albums(connection):\n",
    "    with connection.cursor() as cursor: #데이터베이스 커서가 생성되고, 블록이 끝나면 자동으로 닫힘\n",
    "        cursor.execute(\"SELECT user_id, album_id FROM user_record\") # user_record 테이블에서 user_id와 album_id를 가져오기 위한 SQL 쿼리 실행\n",
    "        records = cursor.fetchall()  # 쿼리 결과를 records 변수에 저장\n",
    "        \n",
    "        cursor.execute(\"\"\"\n",
    "            SELECT id, music_acousticness, music_danceability, music_energy, \n",
    "                   music_liveness, music_loudness, music_speechiness, \n",
    "                   music_tempo, music_valence \n",
    "            FROM album\n",
    "        \"\"\") # album 테이블에서 id와 여러 특성 값을 가져오기 위한 SQL 쿼리 실행\n",
    "        albums = cursor.fetchall()  # 쿼리 결과를 albums 변수에 저장\n",
    "    return records, albums  # 가져온 데이터를 반환"
   ]
  },
  {
   "cell_type": "code",
   "execution_count": null,
   "metadata": {},
   "outputs": [],
   "source": [
    "def main():\n",
    "    connection = pymysql.connect(\n",
    "        host='mitidb.cvm64ss6y2xv.ap-northeast-2.rds.amazonaws.com',       \n",
    "        user='minseo',  \n",
    "        password='Alstj!!809', \n",
    "        database='mitiDB'\n",
    "    ) # MySQL 연결\n",
    "\n",
    "if __name__ == \"__main__\":\n",
    "    main()"
   ]
  }
 ],
 "metadata": {
  "kernelspec": {
   "display_name": "Python 3",
   "language": "python",
   "name": "python3"
  },
  "language_info": {
   "codemirror_mode": {
    "name": "ipython",
    "version": 3
   },
   "file_extension": ".py",
   "mimetype": "text/x-python",
   "name": "python",
   "nbconvert_exporter": "python",
   "pygments_lexer": "ipython3",
   "version": "3.10.13"
  }
 },
 "nbformat": 4,
 "nbformat_minor": 2
}
